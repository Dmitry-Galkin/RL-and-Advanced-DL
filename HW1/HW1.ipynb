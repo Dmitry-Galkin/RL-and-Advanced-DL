{
 "cells": [
  {
   "cell_type": "markdown",
   "id": "4f9515fd",
   "metadata": {},
   "source": [
    "# RL and Advanced DL: Домашнее задание 1\n",
    "Первое ДЗ связано с обучением с подкреплением, и оно придумано для ситуации, когда нейронные сети ещё не нужны, и пространство состояний в целом достаточно маленькое, чтобы можно было обучить хорошую стратегию методами TD-обучения или другими методами обучения с подкреплением. Задание получилось, надеюсь, интересное, но в том числе и достаточно техническое, так что для решения придётся немножко попрограммировать. Поэтому в качестве решения ожидается ссылка на jupyter-ноутбук на вашем github (или публичный, или с доступом для snikolenko); ссылку обязательно нужно прислать в виде сданного домашнего задания на портале Академии. Любые комментарии, новые идеи и рассуждения на тему, как всегда, категорически приветствуются.\n"
   ]
  },
  {
   "cell_type": "code",
   "execution_count": null,
   "id": "871cc300",
   "metadata": {},
   "outputs": [],
   "source": []
  },
  {
   "cell_type": "code",
   "execution_count": 137,
   "id": "787a2925",
   "metadata": {},
   "outputs": [],
   "source": [
    "import itertools\n",
    "import numpy as np\n",
    "import matplotlib.pyplot as plt\n",
    "import gym\n",
    "\n",
    "from tqdm import tqdm"
   ]
  },
  {
   "cell_type": "code",
   "execution_count": null,
   "id": "af473496",
   "metadata": {},
   "outputs": [],
   "source": []
  },
  {
   "cell_type": "markdown",
   "id": "4205982b",
   "metadata": {},
   "source": [
    "# 1. Часть первая, с блекджеком и стратегиями"
   ]
  },
  {
   "cell_type": "code",
   "execution_count": null,
   "id": "dd816c3f",
   "metadata": {},
   "outputs": [],
   "source": []
  },
  {
   "cell_type": "markdown",
   "id": "e0b8d955",
   "metadata": {},
   "source": [
    "**1.1** `Рассмотрим очень простую стратегию: говорить stand, если у нас на руках комбинация в 19, 20 или 21 очко, во всех остальных случаях говорить hit. Используйте методы Монте-Карло, чтобы оценить выигрыш от этой стратегии.`"
   ]
  },
  {
   "cell_type": "code",
   "execution_count": 603,
   "id": "e28ecd0e",
   "metadata": {},
   "outputs": [],
   "source": [
    "# количество состояний\n",
    "# 0 - 3 бесполезные, но для удобства их оставлю\n",
    "# 22 - для любой суммы, когда мы больше 21 взяли (бесполезно для MC, но для TD пригодится)\n",
    "nS = 23\n",
    "\n",
    "# количество действий\n",
    "nA = 2"
   ]
  },
  {
   "cell_type": "code",
   "execution_count": 3,
   "id": "db76b00a",
   "metadata": {},
   "outputs": [
    {
     "data": {
      "text/plain": [
       "array([1, 1, 1, 1, 1, 1, 1, 1, 1, 1, 1, 1, 1, 1, 1, 1, 1, 1, 1, 0, 0, 0,\n",
       "       0])"
      ]
     },
     "execution_count": 3,
     "metadata": {},
     "output_type": "execute_result"
    }
   ],
   "source": [
    "# простая стратегия\n",
    "pi_simple = np.ones(nS, dtype=int)\n",
    "pi_simple[[19, 20, 21, 22]] = 0\n",
    "pi_simple"
   ]
  },
  {
   "cell_type": "code",
   "execution_count": 4,
   "id": "778023ec",
   "metadata": {},
   "outputs": [],
   "source": [
    "def run_episode(env, pi, eps=0.0):\n",
    "    \"\"\"Играем один эпизод.\"\"\"\n",
    "     \n",
    "    state = env.reset()[0]\n",
    "    terminated = False\n",
    "    \n",
    "    states, actions, rewards = [], [], []\n",
    "    \n",
    "    while not terminated:\n",
    "        \n",
    "        sum_hand = state[0]\n",
    "        \n",
    "        if np.random.rand() > eps:\n",
    "            action = pi[sum_hand]\n",
    "        else:\n",
    "            action = np.random.randint(nA)\n",
    "        \n",
    "        state, reward, terminated, _, _ = env.step(action)\n",
    "        \n",
    "        states.append(sum_hand)\n",
    "        actions.append(action)\n",
    "        rewards.append(reward)\n",
    "        \n",
    "    return states, actions, rewards"
   ]
  },
  {
   "cell_type": "code",
   "execution_count": 604,
   "id": "32726668",
   "metadata": {},
   "outputs": [],
   "source": [
    "def get_mean_reward(env, pi, n_episodes):\n",
    "    \"\"\"Расчет среднего выигрыша.\"\"\"\n",
    "    \n",
    "    mean_reward = 0  # средний выигрыш\n",
    "    \n",
    "    for i in range(n_episodes):\n",
    "        _, _, rewards = run_episode(env, pi)\n",
    "        mean_reward = (mean_reward * i + rewards[-1]) / (i + 1)\n",
    "        \n",
    "    return mean_reward"
   ]
  },
  {
   "cell_type": "markdown",
   "id": "d2c02df5",
   "metadata": {},
   "source": [
    "Случай, когда играем с **natural blackjack**"
   ]
  },
  {
   "cell_type": "code",
   "execution_count": 6,
   "id": "26a20b3c",
   "metadata": {},
   "outputs": [
    {
     "name": "stdout",
     "output_type": "stream",
     "text": [
      "Mean reward with natural=True: -0.18\n"
     ]
    }
   ],
   "source": [
    "env = gym.make(\"Blackjack-v1\", natural=True, sab=False)\n",
    "\n",
    "mean_reward = get_mean_reward(env=env, pi=pi_simple, n_episodes=1_000_000)\n",
    "\n",
    "print(f\"Mean reward with natural=True: {np.round(mean_reward, 3)}\")"
   ]
  },
  {
   "cell_type": "markdown",
   "id": "75b81c2a",
   "metadata": {},
   "source": [
    "Случай, когда играем по правилам из книги **Reinforcement Learning: An Introduction by Sutton and Barto**"
   ]
  },
  {
   "cell_type": "code",
   "execution_count": 7,
   "id": "6cf25135",
   "metadata": {},
   "outputs": [
    {
     "name": "stdout",
     "output_type": "stream",
     "text": [
      "Mean reward with sab=True: -0.196\n"
     ]
    }
   ],
   "source": [
    "env = gym.make(\"Blackjack-v1\", natural=False, sab=True)\n",
    "\n",
    "mean_reward = get_mean_reward(env=env, pi=pi_simple, n_episodes=1_000_000)\n",
    "\n",
    "print(f\"Mean reward with sab=True: {np.round(mean_reward, 3)}\")"
   ]
  },
  {
   "cell_type": "markdown",
   "id": "c4696b52",
   "metadata": {},
   "source": [
    "**Вывод:** \n",
    "* Проигрываем в среднем $0.18$ для случая `natural=True` и $0.2$ для `sab=True`. \n",
    "* Далее будем работать с **natural blackjack**."
   ]
  },
  {
   "cell_type": "code",
   "execution_count": null,
   "id": "d078852b",
   "metadata": {},
   "outputs": [],
   "source": []
  },
  {
   "cell_type": "markdown",
   "id": "bfc99c79",
   "metadata": {},
   "source": [
    "**1.2** `Реализуйте метод обучения с подкреплением без модели (можно Q-обучение, но рекомендую попробовать и другие, например Monte Carlo control) для обучения стратегии в блекджеке, используя окружение BlackjackEnv из OpenAI Gym.`\n",
    "\n",
    "**1.3** `Сколько выигрывает казино у вашей стратегии? Нарисуйте графики среднего дохода вашего метода (усреднённого по крайней мере по 100000 раздач, а лучше больше) по ходу обучения. Попробуйте подобрать оптимальные гиперпараметры.`"
   ]
  },
  {
   "cell_type": "code",
   "execution_count": 8,
   "id": "0bd4d8cb",
   "metadata": {},
   "outputs": [],
   "source": [
    "env = gym.make(\"Blackjack-v1\", natural=True, sab=False)"
   ]
  },
  {
   "cell_type": "code",
   "execution_count": null,
   "id": "8eb03975",
   "metadata": {},
   "outputs": [],
   "source": []
  },
  {
   "cell_type": "markdown",
   "id": "29959d04",
   "metadata": {},
   "source": [
    "# On-policy Monte Carlo control"
   ]
  },
  {
   "cell_type": "code",
   "execution_count": 605,
   "id": "cbf8a602",
   "metadata": {},
   "outputs": [],
   "source": [
    "def compute_policy_by_Q(Q):\n",
    "    \"\"\"Политика.\"\"\"\n",
    "    return np.argmax(Q, axis=1)\n",
    "\n",
    "\n",
    "def update_Q(states, actions, rewards, n_episode, gamma=1.0):\n",
    "    \"\"\"Обновляем матрицу Q.\"\"\"\n",
    "    state_first_visit = [-1 for _ in range(nS)]\n",
    "    for t, state in enumerate(states):\n",
    "        if state_first_visit[state] == -1:\n",
    "            state_first_visit[state] = t\n",
    "            \n",
    "    g = 0\n",
    "    for t in range(len(states) - 1, -1, -1):\n",
    "        g =  g * gamma + rewards[t]\n",
    "        if state_first_visit[states[t]] == t:\n",
    "            Q[states[t]][actions[t]] = (Q[states[t]][actions[t]] * n_episode + g) / (n_episode + 1)\n",
    "            \n",
    "            \n",
    "def mean_reward_plot(x, y, title=\"\"):\n",
    "    \"\"\"График среднего дохода.\"\"\"\n",
    "    plt.figure(figsize=(10, 4))\n",
    "    plt.plot(x, y)\n",
    "    plt.plot(x, y, \"o\")\n",
    "    plt.title(title)\n",
    "    plt.ylabel(\"mean reward\")\n",
    "    plt.xlabel(\"episode number\")\n",
    "    plt.grid()"
   ]
  },
  {
   "cell_type": "code",
   "execution_count": 11,
   "id": "ebff63e5",
   "metadata": {},
   "outputs": [
    {
     "name": "stderr",
     "output_type": "stream",
     "text": [
      "100%|███████████████████████████████████| 100001/100001 [26:02<00:00, 64.01it/s]\n"
     ]
    }
   ],
   "source": [
    "# Разыгрываем total_episodes раздач до конца. \n",
    "# По итогам каждого разыгранного эпизода обновляем матрицу Q и стратегию pi.\n",
    "# Каждые check_pi_step шагов проверяем стратегию, расчитывая средний выигрыш.\n",
    "\n",
    "# action-value function\n",
    "Q = np.zeros((nS, nA))\n",
    "\n",
    "total_episodes = 100_001\n",
    "check_pi_step = 5000  # как часто проверяем стратегию\n",
    "gamma = 0.9\n",
    "eps = 0.1\n",
    "\n",
    "mean_reward_by_current_policy = []\n",
    "\n",
    "for n_episode in tqdm(range(total_episodes)):\n",
    "    # текущая стратегия\n",
    "    pi = compute_policy_by_Q(Q)\n",
    "    \n",
    "    if n_episode % check_pi_step == 0:\n",
    "        mean_reward = get_mean_reward(env, pi, n_episodes=500_000)\n",
    "        mean_reward_by_current_policy.append(mean_reward)\n",
    "    \n",
    "    # проигрываем эпизод\n",
    "    states, actions, rewards = run_episode(env, pi, eps=eps)  \n",
    "    # обновляем Q\n",
    "    update_Q(states, actions, rewards, n_episode, gamma=gamma)"
   ]
  },
  {
   "cell_type": "code",
   "execution_count": 12,
   "id": "18d8aab3",
   "metadata": {},
   "outputs": [
    {
     "data": {
      "image/png": "[encoded data removed]",
      "text/plain": [
       "<Figure size 1000x400 with 1 Axes>"
      ]
     },
     "metadata": {},
     "output_type": "display_data"
    }
   ],
   "source": [
    "mean_reward_plot(\n",
    "    x=np.arange(0, total_episodes, check_pi_step),\n",
    "    y=mean_reward_by_current_policy, \n",
    "    title=\"On-policy Monte Carlo control\"\n",
    ")"
   ]
  },
  {
   "cell_type": "markdown",
   "id": "b09e780d",
   "metadata": {},
   "source": [
    "**Полученная матрица Q**"
   ]
  },
  {
   "cell_type": "code",
   "execution_count": 13,
   "id": "83c93570",
   "metadata": {},
   "outputs": [
    {
     "name": "stdout",
     "output_type": "stream",
     "text": [
      "[[ 0.          0.        ]\n",
      " [ 0.          0.        ]\n",
      " [ 0.          0.        ]\n",
      " [ 0.          0.        ]\n",
      " [-0.02252232 -0.02252143]\n",
      " [-0.0225634  -0.022524  ]\n",
      " [-0.05494464 -0.05494224]\n",
      " [-0.99704662 -0.12255508]\n",
      " [-0.02417524 -0.02417134]\n",
      " [-0.03552599 -0.03050064]\n",
      " [-0.06456035  0.00610805]\n",
      " [-0.12428564  0.01540458]\n",
      " [-0.20836598 -0.20829774]\n",
      " [-0.49421628 -0.25207274]\n",
      " [-0.32591237 -0.32155519]\n",
      " [-0.23977971 -0.23973849]\n",
      " [-0.1867185  -0.18672055]\n",
      " [-0.20052138 -0.2005441 ]\n",
      " [-0.05672665 -0.15577346]\n",
      " [ 0.07609147 -0.16242571]\n",
      " [ 0.31279803 -0.2472327 ]\n",
      " [ 0.6954419  -0.02148995]\n",
      " [ 0.          0.        ]]\n"
     ]
    }
   ],
   "source": [
    "print(Q)"
   ]
  },
  {
   "cell_type": "markdown",
   "id": "b47869db",
   "metadata": {},
   "source": [
    "**Выводы:**\n",
    "\n",
    "* Средний проигрыш уменьшился примерно в 2 раза: с $0.18$ до $0.06\\ ..\\ 0.08$ в среднем. *Лучший результат: проигрыш $0.06$.*\n",
    "* Из анализа матрицы **Q** следует, что когда на руках $19$, $20$ и $21$, то выгоднее остановиться, чем добирать. Тогда, вероятнее, выиграть.\n",
    "* Интересный результат получился, когда на руках $11$ - положительный средний выигрыш, если добирать дальше карты.\n",
    "* А так часто ситуация, когда одинаково плохо и добирать и останавливаться."
   ]
  },
  {
   "cell_type": "code",
   "execution_count": null,
   "id": "7e162ddc",
   "metadata": {},
   "outputs": [],
   "source": []
  },
  {
   "cell_type": "code",
   "execution_count": null,
   "id": "97fefc12",
   "metadata": {},
   "outputs": [],
   "source": []
  },
  {
   "cell_type": "markdown",
   "id": "9f0a33bb",
   "metadata": {},
   "source": [
    "# Off-policy Monte Carlo control"
   ]
  },
  {
   "cell_type": "code",
   "execution_count": 14,
   "id": "81ca401b",
   "metadata": {},
   "outputs": [],
   "source": [
    "def update_lists(s, a, g, w, Q, C):\n",
    "    C[s][a] = C[s][a] + w\n",
    "    Q[s][a] = Q[s][a] + (g - Q[s][a]) * w / C[s][a]\n",
    "\n",
    "\n",
    "def update_returns_actions_offpolicy_MC(Q, C, pi, states, actions, rewards, epsilon=0.1, gamma=1.0):\n",
    "    \n",
    "    g, w, prob_best_action = 0., 1., 1 - (nA - 1) * epsilon / nA\n",
    "\n",
    "    # Обновляем функции для последнего хода\n",
    "    update_lists(states[-1], actions[-1], g, w, Q, C)\n",
    "    \n",
    "    for t in range(len(states) - 1, -1, -1):\n",
    "        # Если действие не соответствует лучшей стратегии, дальше не надо смотреть\n",
    "        if actions[t] != pi[states[t]]:\n",
    "            break\n",
    "            \n",
    "        # Обновляем веса и return\n",
    "        w = w / prob_best_action\n",
    "        g =  g * gamma + rewards[t]\n",
    "        \n",
    "        # Обновляем функции\n",
    "        update_lists(states[t], actions[t], g, w, Q, C)\n",
    "        \n",
    "    return Q, C"
   ]
  },
  {
   "cell_type": "code",
   "execution_count": 15,
   "id": "e10e4ee7",
   "metadata": {},
   "outputs": [
    {
     "name": "stderr",
     "output_type": "stream",
     "text": [
      "100%|███████████████████████████████████| 100001/100001 [24:59<00:00, 66.69it/s]\n"
     ]
    }
   ],
   "source": [
    "# action-value function\n",
    "Q = np.zeros((nS, nA))\n",
    "\n",
    "C = np.zeros((nS, nA), dtype=float)\n",
    "\n",
    "total_episodes = 100_001\n",
    "check_pi_step = 5000  # как часто проверяем стратегию\n",
    "gamma = 0.9\n",
    "eps = 0.1\n",
    "\n",
    "mean_reward_by_current_policy = []\n",
    "\n",
    "for n_episode in tqdm(range(total_episodes)):\n",
    "    # текущая стратегия\n",
    "    pi = compute_policy_by_Q(Q)\n",
    "    \n",
    "    if n_episode % check_pi_step == 0:\n",
    "        mean_reward = get_mean_reward(env, pi, n_episodes=500_000)\n",
    "        mean_reward_by_current_policy.append(mean_reward)\n",
    "    \n",
    "    # проигрываем эпизод\n",
    "    states, actions, rewards = run_episode(env, pi, eps=eps)  \n",
    "    # обновляем Q\n",
    "    Q, C = update_returns_actions_offpolicy_MC(\n",
    "        Q, C, pi, states, actions, rewards, gamma=gamma\n",
    "    )"
   ]
  },
  {
   "cell_type": "code",
   "execution_count": 16,
   "id": "78c0a232",
   "metadata": {},
   "outputs": [
    {
     "data": {
      "image/png": "[encoded data removed]",
      "text/plain": [
       "<Figure size 1000x400 with 1 Axes>"
      ]
     },
     "metadata": {},
     "output_type": "display_data"
    }
   ],
   "source": [
    "mean_reward_plot(\n",
    "    x=np.arange(0, total_episodes, check_pi_step),\n",
    "    y=mean_reward_by_current_policy, \n",
    "    title=\"Off-policy Monte Carlo control\"\n",
    ")"
   ]
  },
  {
   "cell_type": "markdown",
   "id": "45c1bb32",
   "metadata": {},
   "source": [
    "**Полученная матрица Q**"
   ]
  },
  {
   "cell_type": "code",
   "execution_count": 17,
   "id": "3091d688",
   "metadata": {},
   "outputs": [
    {
     "name": "stdout",
     "output_type": "stream",
     "text": [
      "[[ 0.          0.        ]\n",
      " [ 0.          0.        ]\n",
      " [ 0.          0.        ]\n",
      " [ 0.          0.        ]\n",
      " [-0.23504274 -0.9       ]\n",
      " [-0.2119712  -0.81      ]\n",
      " [-0.2145383  -0.81      ]\n",
      " [-0.22714456 -0.9       ]\n",
      " [-0.14276228 -0.13723403]\n",
      " [-0.23337666 -0.9       ]\n",
      " [-0.00425532  0.08798629]\n",
      " [-0.004095    0.12903665]\n",
      " [-0.22152987 -0.20636087]\n",
      " [-0.22114754 -0.2220875 ]\n",
      " [-0.21837564 -0.2203367 ]\n",
      " [-0.22920564 -0.22963966]\n",
      " [-0.22363136 -0.22478843]\n",
      " [-0.14894209 -0.15096255]\n",
      " [ 0.00739919 -0.00374532]\n",
      " [ 0.13932961 -0.00398645]\n",
      " [ 0.29805926 -0.00174613]\n",
      " [ 0.5974302   0.        ]\n",
      " [ 0.          0.        ]]\n"
     ]
    }
   ],
   "source": [
    "print(Q)"
   ]
  },
  {
   "cell_type": "markdown",
   "id": "6222d2c0",
   "metadata": {},
   "source": [
    "**Выводы:**\n",
    "* Здесь результат получился похуже, чем для **on-policy MC control**. Но лучше, чем для первоначальной стратегии. Средний проигрыш  $0.11$. *Лучший результат: проигрыш $0.09$.*\n",
    "* Матрица **Q**: здесь результаты чуть отличаются. Видно, что она 'поощряет' сильнее добрать на руку карту, если сумма на руках меньше $11$. И если на руках больше $11$, то результаты совпадают: $18,\\ 19,\\ 20,\\ 21$ - перестаем добирать, меньше 18 - одинаково невыгодно ни одно из действий."
   ]
  },
  {
   "cell_type": "code",
   "execution_count": null,
   "id": "de6bfbf4",
   "metadata": {},
   "outputs": [],
   "source": []
  },
  {
   "cell_type": "code",
   "execution_count": null,
   "id": "0e4cdc15",
   "metadata": {},
   "outputs": [],
   "source": []
  },
  {
   "cell_type": "markdown",
   "id": "5c6bcd19",
   "metadata": {},
   "source": [
    "# Q-learning"
   ]
  },
  {
   "cell_type": "code",
   "execution_count": 647,
   "id": "628497a8",
   "metadata": {},
   "outputs": [],
   "source": [
    "def Q_learning_episode(env, Q, alpha, eps, gamma):\n",
    "    \"\"\"Q-learning для одного эпизода.\"\"\"\n",
    "    \n",
    "    state = env.reset()[0]\n",
    "    terminated = False\n",
    "\n",
    "    while not terminated:\n",
    "\n",
    "        pi = compute_policy_by_Q(Q)\n",
    "\n",
    "        sum_hand = state[0]\n",
    "        if np.random.rand() > eps:\n",
    "            action = pi[sum_hand]\n",
    "        else:\n",
    "            action = np.random.randint(nA)\n",
    "\n",
    "        state, reward, terminated, _, _ = env.step(action)\n",
    "\n",
    "        new_state = state[0]\n",
    "        if new_state > 21:\n",
    "            new_state = 22\n",
    "\n",
    "        Q[sum_hand][action] = Q[sum_hand][action] \\\n",
    "                + alpha * (reward + gamma * max(Q[new_state]) - Q[sum_hand][action])\n",
    "\n",
    "    return Q"
   ]
  },
  {
   "cell_type": "code",
   "execution_count": 648,
   "id": "2453cbe6",
   "metadata": {},
   "outputs": [
    {
     "name": "stderr",
     "output_type": "stream",
     "text": [
      "100%|██████████████████████████████████| 100001/100001 [11:41<00:00, 142.46it/s]\n"
     ]
    }
   ],
   "source": [
    "Q = np.zeros((nS, nA))\n",
    "\n",
    "total_episodes = 100_001\n",
    "alpha = 0.0001\n",
    "epsilon = 0.8\n",
    "gamma = 0.5\n",
    "check_pi_step = 5000  # как часто проверяем стратегию\n",
    "\n",
    "mean_reward_by_current_policy = []\n",
    "\n",
    "for n_episode in tqdm(range(total_episodes)):\n",
    "     \n",
    "    if n_episode % check_pi_step == 0:\n",
    "        pi = compute_policy_by_Q(Q)\n",
    "        mean_reward = get_mean_reward(env, pi, n_episodes=200_000)\n",
    "        mean_reward_by_current_policy.append(mean_reward)\n",
    "    \n",
    "    Q = Q_learning_episode(env, Q, alpha, epsilon, gamma)  "
   ]
  },
  {
   "cell_type": "code",
   "execution_count": 649,
   "id": "13ac7f26",
   "metadata": {},
   "outputs": [
    {
     "data": {
      "image/png": "[encoded data removed]",
      "text/plain": [
       "<Figure size 1000x400 with 1 Axes>"
      ]
     },
     "metadata": {},
     "output_type": "display_data"
    }
   ],
   "source": [
    "mean_reward_plot(\n",
    "    x=np.arange(0, total_episodes, check_pi_step),\n",
    "    y=mean_reward_by_current_policy, \n",
    "    title=\"Q-learning\"\n",
    ")"
   ]
  },
  {
   "cell_type": "markdown",
   "id": "dd5eddd8",
   "metadata": {},
   "source": [
    "**Полученная матрица Q**"
   ]
  },
  {
   "cell_type": "code",
   "execution_count": 654,
   "id": "d4c153e3",
   "metadata": {},
   "outputs": [
    {
     "name": "stdout",
     "output_type": "stream",
     "text": [
      "[[ 0.    0.  ]\n",
      " [ 0.    0.  ]\n",
      " [ 0.    0.  ]\n",
      " [ 0.    0.  ]\n",
      " [-0.01 -0.  ]\n",
      " [-0.02 -0.  ]\n",
      " [-0.03 -0.  ]\n",
      " [-0.04 -0.  ]\n",
      " [-0.05 -0.  ]\n",
      " [-0.06 -0.  ]\n",
      " [-0.07  0.01]\n",
      " [-0.08  0.01]\n",
      " [-0.17 -0.14]\n",
      " [-0.19 -0.17]\n",
      " [-0.2  -0.2 ]\n",
      " [-0.22 -0.22]\n",
      " [-0.23 -0.23]\n",
      " [-0.16 -0.22]\n",
      " [-0.   -0.23]\n",
      " [ 0.15 -0.25]\n",
      " [ 0.43 -0.37]\n",
      " [ 0.61 -0.16]\n",
      " [ 0.    0.  ]]\n"
     ]
    }
   ],
   "source": [
    "print(Q.round(2))"
   ]
  },
  {
   "cell_type": "markdown",
   "id": "1b9c14f9",
   "metadata": {},
   "source": [
    "**Выводы:**\n",
    "\n",
    "* Средний проигрыш получился порядка $0.06$ , что лучше, чем первоначальная простая стратегия. И примерно совпадает с результатами **on-policy MC control**. Но здесь результат как будто более стабильный по ходу обучения.\n",
    "* По матрице **Q** примерно такие же выводы, как и ранее."
   ]
  },
  {
   "cell_type": "code",
   "execution_count": null,
   "id": "a84b85df",
   "metadata": {},
   "outputs": [],
   "source": []
  },
  {
   "cell_type": "code",
   "execution_count": null,
   "id": "3168460e",
   "metadata": {},
   "outputs": [],
   "source": []
  },
  {
   "cell_type": "markdown",
   "id": "02a5a376",
   "metadata": {},
   "source": [
    "# Вывод по первой части\n",
    "\n",
    "> Выиграть у казино не получилось. \n",
    "> \n",
    "> Средний проигрыш удалось уменьшить с $0.18$ до $0.06\\ ..\\ 0.1$ в зависимости от метода."
   ]
  },
  {
   "cell_type": "code",
   "execution_count": null,
   "id": "371b2a19",
   "metadata": {},
   "outputs": [],
   "source": []
  },
  {
   "cell_type": "code",
   "execution_count": null,
   "id": "5ea5a0c3",
   "metadata": {},
   "outputs": [],
   "source": []
  },
  {
   "cell_type": "code",
   "execution_count": null,
   "id": "ed73f281",
   "metadata": {},
   "outputs": [],
   "source": []
  },
  {
   "cell_type": "markdown",
   "id": "1ef91cbd",
   "metadata": {},
   "source": [
    "# Часть вторая, удвоенная\n",
    "В базовый блекджек, описанный в предыдущем разделе, обыграть казино вряд ли получится. Но, к счастью, на этом история не заканчивается. Описанные выше правила были упрощёнными, а на самом деле у игрока есть ещё и другие возможности. Реализовывать split может оказаться непросто, поэтому давайте ограничимся удвоением ставки. Итак, у игрока появляется дополнительное действие:\n",
    "* double — удвоить ставку; при этом больше действий делать нельзя, игроку выдаётся ровно одна дополнительная карта, а выигрыш или проигрыш удваивается.\n",
    "* Реализуйте новый вариант блекджека на основе окружения BlackjackEnv из OpenAI Gym, в котором разрешено удвоение ставки.\n",
    "* Реализуйте метод обучения с подкреплением без модели для этого варианта, постройте графики, аналогичные п.2.\n"
   ]
  },
  {
   "cell_type": "code",
   "execution_count": null,
   "id": "1314d678",
   "metadata": {},
   "outputs": [],
   "source": []
  },
  {
   "cell_type": "markdown",
   "id": "6ce3201a",
   "metadata": {},
   "source": [
    "> Реализуем в этой части только **Q-learning**. Но 2 варианта: обычный и **double Q-learning**."
   ]
  },
  {
   "cell_type": "code",
   "execution_count": null,
   "id": "45a1eff4",
   "metadata": {},
   "outputs": [],
   "source": []
  },
  {
   "cell_type": "code",
   "execution_count": 203,
   "id": "ed163a6b",
   "metadata": {},
   "outputs": [],
   "source": [
    "# количество действий\n",
    "nA = 3"
   ]
  },
  {
   "cell_type": "code",
   "execution_count": 606,
   "id": "11dfded5",
   "metadata": {},
   "outputs": [],
   "source": [
    "def run_episode(env, pi, eps=0.0):\n",
    "    \"\"\"Играем один эпизод.\"\"\"\n",
    "     \n",
    "    state = env.reset()[0]\n",
    "    terminated = False\n",
    "    double_game = False\n",
    "    \n",
    "    states, actions, rewards = [], [], []\n",
    "    \n",
    "    while not terminated:\n",
    "        \n",
    "        sum_hand = state[0]\n",
    "        \n",
    "        if double_game:\n",
    "            action = 0  \n",
    "        else:\n",
    "            if np.random.rand() > eps:\n",
    "                action = pi[sum_hand]\n",
    "            else:\n",
    "                action = np.random.randint(nA)\n",
    "            if action == 2:\n",
    "                double_game = True\n",
    "        \n",
    "        state, reward, terminated, _, _ = env.step(min(action, 1))\n",
    "        \n",
    "        if double_game:\n",
    "            reward *= 2\n",
    "        \n",
    "        states.append(sum_hand)\n",
    "        actions.append(action)\n",
    "        rewards.append(reward)\n",
    "        \n",
    "    return states, actions, rewards"
   ]
  },
  {
   "cell_type": "code",
   "execution_count": null,
   "id": "5a734ca4",
   "metadata": {},
   "outputs": [],
   "source": []
  },
  {
   "cell_type": "markdown",
   "id": "84e56d1d",
   "metadata": {},
   "source": [
    "# Q-learning"
   ]
  },
  {
   "cell_type": "code",
   "execution_count": 644,
   "id": "715ee1dd",
   "metadata": {},
   "outputs": [],
   "source": [
    "def Q_learning_episode_with_double(env, Q, alpha, eps, gamma):\n",
    "    \"\"\"Q-learning для одного эпизода с учетом удвоения ставок.\"\"\"\n",
    "    \n",
    "    state = env.reset()[0]\n",
    "    terminated = False\n",
    "    double_game = False\n",
    "\n",
    "    while not terminated:\n",
    "\n",
    "        pi = compute_policy_by_Q(Q)  # текущая стратегия\n",
    "\n",
    "        sum_hand = state[0]\n",
    "        \n",
    "        if double_game:\n",
    "            action = 0  \n",
    "        else:\n",
    "            if np.random.rand() > eps:\n",
    "                action = pi[sum_hand]\n",
    "            else:\n",
    "                action = np.random.randint(nA)\n",
    "            if action == 2:\n",
    "                double_game = True\n",
    "\n",
    "        state, reward, terminated, _, _ = env.step(min(action, 1))\n",
    "        \n",
    "        if double_game:\n",
    "            reward *= 2\n",
    "\n",
    "        new_state = state[0]\n",
    "        if new_state > 21:\n",
    "            new_state = 22\n",
    "\n",
    "        Q[sum_hand][action] = Q[sum_hand][action] \\\n",
    "                + alpha * (reward + gamma * max(Q[new_state]) - Q[sum_hand][action])\n",
    "\n",
    "    return Q"
   ]
  },
  {
   "cell_type": "code",
   "execution_count": 645,
   "id": "f8a12bf5",
   "metadata": {},
   "outputs": [
    {
     "name": "stderr",
     "output_type": "stream",
     "text": [
      "100%|██████████████████████████████████| 100001/100001 [12:16<00:00, 135.70it/s]\n"
     ]
    }
   ],
   "source": [
    "Q = np.zeros((nS, nA))\n",
    "\n",
    "total_episodes = 100_001\n",
    "alpha = 0.0001\n",
    "epsilon = 0.8\n",
    "gamma = 0.5\n",
    "check_pi_step = 5000  # как часто проверяем стратегию\n",
    "\n",
    "mean_reward_by_current_policy = []\n",
    "\n",
    "for n_episode in tqdm(range(total_episodes)):\n",
    "    \n",
    "    if n_episode % check_pi_step == 0:\n",
    "        pi = compute_policy_by_Q(Q)\n",
    "        mean_reward = get_mean_reward(env, pi, n_episodes=200_000)\n",
    "        mean_reward_by_current_policy.append(mean_reward)\n",
    "    \n",
    "    Q = Q_learning_episode_with_double(env, Q, alpha, epsilon, gamma) "
   ]
  },
  {
   "cell_type": "code",
   "execution_count": 646,
   "id": "a2304a08",
   "metadata": {},
   "outputs": [
    {
     "data": {
      "image/png": "[encoded data removed]",
      "text/plain": [
       "<Figure size 1000x400 with 1 Axes>"
      ]
     },
     "metadata": {},
     "output_type": "display_data"
    }
   ],
   "source": [
    "mean_reward_plot(\n",
    "    x=np.arange(0, total_episodes, check_pi_step),\n",
    "    y=mean_reward_by_current_policy, \n",
    "    title=\"Q-learning with double\"\n",
    ")"
   ]
  },
  {
   "cell_type": "markdown",
   "id": "931a4649",
   "metadata": {},
   "source": [
    "**Выводы:**\n",
    "\n",
    "> Результат получился такой же, как и без удвоения: средний проигрыш около $0.06$. Значит удваивать не стоит просто так:)"
   ]
  },
  {
   "cell_type": "code",
   "execution_count": null,
   "id": "12ae2afe",
   "metadata": {},
   "outputs": [],
   "source": []
  },
  {
   "cell_type": "markdown",
   "id": "c8402616",
   "metadata": {},
   "source": [
    "# Double Q-learning"
   ]
  },
  {
   "cell_type": "code",
   "execution_count": 640,
   "id": "e9e61407",
   "metadata": {},
   "outputs": [],
   "source": [
    "def double_Q_learning_episode_with_double(env, Q1, Q2, alpha, eps, gamma):\n",
    "    \"\"\"double Q-learning для одного эпизода с учетом удвоения ставок.\"\"\"\n",
    "    \n",
    "    state = env.reset()[0]\n",
    "    terminated = False\n",
    "    double_game = False\n",
    "\n",
    "    while not terminated:\n",
    "\n",
    "        pi = compute_policy_by_Q(Q1)  # текущая стратегия\n",
    "\n",
    "        sum_hand = state[0]\n",
    "        \n",
    "        if double_game:\n",
    "            action = 0  \n",
    "        else:\n",
    "            if np.random.rand() > eps:\n",
    "                action = pi[sum_hand]\n",
    "            else:\n",
    "                action = np.random.randint(nA)\n",
    "            if action == 2:\n",
    "                double_game = True\n",
    "\n",
    "        state, reward, terminated, _, _ = env.step(min(action, 1))\n",
    "        \n",
    "        if double_game:\n",
    "            reward *= 2\n",
    "\n",
    "        new_state = state[0]\n",
    "        if new_state > 21:\n",
    "            new_state = 22\n",
    "        \n",
    "        if np.random.random() < 0.5:\n",
    "            Q1[sum_hand][action] = Q1[sum_hand][action] \\\n",
    "                    + alpha * (reward + gamma * max(Q2[new_state]) - Q1[sum_hand][action])\n",
    "        else:\n",
    "            Q2[sum_hand][action] = Q2[sum_hand][action] \\\n",
    "                    + alpha * (reward + gamma * max(Q1[new_state]) - Q2[sum_hand][action])\n",
    "\n",
    "    return Q1, Q2"
   ]
  },
  {
   "cell_type": "code",
   "execution_count": 641,
   "id": "15fd384c",
   "metadata": {},
   "outputs": [
    {
     "name": "stderr",
     "output_type": "stream",
     "text": [
      "100%|██████████████████████████████████| 100001/100001 [11:54<00:00, 139.99it/s]\n"
     ]
    }
   ],
   "source": [
    "Q1 = np.zeros((nS, nA))\n",
    "Q2 = np.zeros((nS, nA))\n",
    "\n",
    "total_episodes = 100_001\n",
    "alpha = 0.0001\n",
    "epsilon = 0.8\n",
    "gamma = 0.5\n",
    "check_pi_step = 5000  # как часто проверяем стратегию\n",
    "\n",
    "mean_reward_by_current_policy = []\n",
    "\n",
    "for n_episode in tqdm(range(total_episodes)):\n",
    "    \n",
    "    if n_episode % check_pi_step == 0:\n",
    "        pi = compute_policy_by_Q(Q1)\n",
    "        mean_reward = get_mean_reward(env, pi, n_episodes=200_000)\n",
    "        mean_reward_by_current_policy.append(mean_reward)\n",
    "    \n",
    "    Q1, Q2 = double_Q_learning_episode_with_double(env, Q1, Q2, alpha, epsilon, gamma) "
   ]
  },
  {
   "cell_type": "code",
   "execution_count": 642,
   "id": "8a2d8918",
   "metadata": {},
   "outputs": [
    {
     "data": {
      "image/png": "[encoded data removed]",
      "text/plain": [
       "<Figure size 1000x400 with 1 Axes>"
      ]
     },
     "metadata": {},
     "output_type": "display_data"
    }
   ],
   "source": [
    "mean_reward_plot(\n",
    "    x=np.arange(0, total_episodes, check_pi_step),\n",
    "    y=mean_reward_by_current_policy, \n",
    "    title=\"Q-learning with double\"\n",
    ")"
   ]
  },
  {
   "cell_type": "markdown",
   "id": "531004a9",
   "metadata": {},
   "source": [
    "**Выводы:**\n",
    "\n",
    "> Не отличается от простого метода **Q-learning**."
   ]
  },
  {
   "cell_type": "code",
   "execution_count": null,
   "id": "9773430f",
   "metadata": {},
   "outputs": [],
   "source": []
  },
  {
   "cell_type": "markdown",
   "id": "0465657c",
   "metadata": {},
   "source": [
    "# Вывод по второй части\n",
    "\n",
    "* Результат не отличается от случая, когда мы играли без удвоения. Т.е. играть с удвоением не выгодно, когда колоду постоянно перемешивают. Перебор гиперпараметров ситуацию тоже не улучшил.\n",
    "* Простой **Q-learning** и **double Q-learning** показали одинаковые результаты."
   ]
  },
  {
   "cell_type": "code",
   "execution_count": null,
   "id": "57bf7976",
   "metadata": {},
   "outputs": [],
   "source": []
  },
  {
   "cell_type": "code",
   "execution_count": null,
   "id": "819af5d1",
   "metadata": {},
   "outputs": [],
   "source": []
  },
  {
   "cell_type": "code",
   "execution_count": null,
   "id": "f0085e2a",
   "metadata": {},
   "outputs": [],
   "source": []
  },
  {
   "cell_type": "markdown",
   "id": "ec6b2c9c",
   "metadata": {},
   "source": [
    "# Часть третья, в главной роли — Дастин Хоффман\n",
    "\n",
    "А теперь давайте вспомним, как играют в блекджек настоящие профессионалы. Дело в том, что в оффлайн-казино обычно не перемешивают колоду после каждой раздачи — это слишком замедляло бы игру. После раздачи карты просто раздаются дальше с верха колоды до тех пор, пока карт не останется слишком мало, и только тогда колода перемешивается; давайте для определённости считать, что наше казино будет перемешивать колоду, в которой осталось меньше 15 карт.\n"
   ]
  },
  {
   "cell_type": "markdown",
   "id": "4a8e6956",
   "metadata": {},
   "source": [
    "Действительно, если вы будете запоминать, какие карты уже вышли, у вас будет информация о том, какие карты ещё остались, а это позволяет лучше понять, когда нужно удваивать ставку или делать split, а когда лучше не стоит. В настоящем казино могут раздавать карты сразу из нескольких колод, и заслуга Rain Man’а была в том, что он смог считать карты в шести колодах одновременно. Но мы с вами вооружены компьютерами, так что подсчёт можно считать автоматическим.\n",
    "* Реализуйте вариант окружения BlackjackEnv из предыдущей части (с удвоением), в котором игрок имеет возможность “считать карты” в колоде. Это можно сделать разными способами; возможно, вам поможет статья википедии о блекджеке (а возможно, и нет).\n",
    "* Реализуйте метод обучения с подкреплением без модели для этого варианта, постройте графики, аналогичные п.2.\n"
   ]
  },
  {
   "cell_type": "code",
   "execution_count": null,
   "id": "4d0c681f",
   "metadata": {},
   "outputs": [],
   "source": []
  },
  {
   "cell_type": "markdown",
   "id": "f83dc235",
   "metadata": {},
   "source": [
    "> Будем использовать метод **\"Половинки\"**. Вот отсюда взял правила подсчета: https://casino.ru/podschet-kart-v-blekdzheke/\n",
    ">\n",
    "> А также решать задачу методом **double Q-learning**."
   ]
  },
  {
   "cell_type": "code",
   "execution_count": null,
   "id": "a6dd6595",
   "metadata": {},
   "outputs": [],
   "source": []
  },
  {
   "cell_type": "code",
   "execution_count": 655,
   "id": "cb12ae1d",
   "metadata": {},
   "outputs": [],
   "source": [
    "from typing import Optional\n",
    "\n",
    "from gym import spaces\n",
    "from gym.utils import seeding\n",
    "from gym.error import DependencyNotInstalled\n",
    "from gym.envs.toy_text.blackjack import BlackjackEnv\n",
    "\n",
    "\n",
    "class Blackjack_V2(BlackjackEnv):\n",
    "    \"\"\"Блэкджек, где одна колода, и карты перемешиваем только после того, как их осталось меньше или равно 15.\"\"\"\n",
    "    \n",
    "    def __init__(self, natural=True, sab=False):\n",
    "        super().__init__(natural=natural, sab=sab)\n",
    "        self.seed()\n",
    "        self.initial_deck = [1, 2, 3, 4, 5, 6, 7, 8, 9, 10, 10, 10, 10] * 4\n",
    "        self.deck = self.initial_deck.copy()\n",
    "        \n",
    "    def seed(self, seed=None):\n",
    "        self.np_random, seed = seeding.np_random(seed)\n",
    "        return [seed]\n",
    "        \n",
    "    def draw_card(self, np_random):\n",
    "        card = int(np_random.choice(self.deck))\n",
    "        self.deck.remove(card)\n",
    "        return card\n",
    "    \n",
    "    def draw_hand(self, np_random):\n",
    "        return [self.draw_card(np_random), self.draw_card(np_random)]\n",
    "    \n",
    "    def reset(\n",
    "        self,\n",
    "        seed: Optional[int] = None,\n",
    "        options: Optional[dict] = None,\n",
    "    ):\n",
    "        super().reset(seed=seed)\n",
    "        \n",
    "        shuffle_card = False\n",
    "        if len(self.deck) <= 15:\n",
    "            shuffle_card = True\n",
    "            self.deck = self.initial_deck.copy()\n",
    "            \n",
    "        self.dealer = self.draw_hand(np.random)\n",
    "        self.player = self.draw_hand(np.random)\n",
    "\n",
    "        _, dealer_card_value, _ = self._get_obs()\n",
    "\n",
    "        suits = [\"C\", \"D\", \"H\", \"S\"]\n",
    "        self.dealer_top_card_suit = self.np_random.choice(suits)\n",
    "\n",
    "        if dealer_card_value == 1:\n",
    "            self.dealer_top_card_value_str = \"A\"\n",
    "        elif dealer_card_value == 10:\n",
    "            self.dealer_top_card_value_str = self.np_random.choice([\"J\", \"Q\", \"K\"])\n",
    "        else:\n",
    "            self.dealer_top_card_value_str = str(dealer_card_value)\n",
    "\n",
    "        return self._get_obs(), shuffle_card"
   ]
  },
  {
   "cell_type": "code",
   "execution_count": 656,
   "id": "3a3ddb62",
   "metadata": {},
   "outputs": [],
   "source": [
    "def get_mean_reward(env, pi, n_episodes):\n",
    "    \"\"\"Расчет среднего выигрыша.\"\"\"\n",
    "    \n",
    "    mean_reward = 0  # средний выигрыш\n",
    "    cost = 0\n",
    "    \n",
    "    for i in range(n_episodes):\n",
    "        _, _, rewards, cost = run_episode(env, pi, cost)\n",
    "        mean_reward = (mean_reward * i + rewards[-1]) / (i + 1)\n",
    "        \n",
    "    return mean_reward"
   ]
  },
  {
   "cell_type": "code",
   "execution_count": 657,
   "id": "caa84282",
   "metadata": {},
   "outputs": [],
   "source": [
    "def run_episode(env, pi, cost, eps=0.0):\n",
    "    \"\"\"Играем один эпизод.\"\"\"\n",
    "     \n",
    "    state, shuffle_card = env.reset()\n",
    "    \n",
    "    if shuffle_card:\n",
    "        cost = 0\n",
    "        \n",
    "    for card in env.player:\n",
    "        cost += card_cost[card]\n",
    "    cost += card_cost[env.dealer[0]]\n",
    "          \n",
    "    terminated = False\n",
    "    double_game = False\n",
    "    \n",
    "    states, actions, rewards = [], [], []\n",
    "    \n",
    "    while not terminated:\n",
    "        \n",
    "        sum_hand = state[0]\n",
    "        \n",
    "        if double_game:\n",
    "            action = 0  \n",
    "        else:\n",
    "            if np.random.rand() > eps:\n",
    "                action = pi[s2i[(sum_hand, cost)]]\n",
    "            else:\n",
    "                action = np.random.randint(nA)\n",
    "            if action == 2:\n",
    "                double_game = True\n",
    "        \n",
    "        state, reward, terminated, _, _ = env.step(min(action, 1))\n",
    "        \n",
    "        if action != 0:\n",
    "            cost += card_cost[env.player[-1]]\n",
    "        \n",
    "        if double_game:\n",
    "            reward *= 2\n",
    "        \n",
    "        states.append(sum_hand)\n",
    "        actions.append(action)\n",
    "        rewards.append(reward)\n",
    "        \n",
    "    for card in env.dealer[1:]:\n",
    "        cost += card_cost[card]\n",
    "        \n",
    "    return states, actions, rewards, cost"
   ]
  },
  {
   "cell_type": "code",
   "execution_count": 545,
   "id": "4e442831",
   "metadata": {},
   "outputs": [],
   "source": [
    "def double_Q_learning_episode_with_double_Hoffman(env, Q1, Q2, alpha, eps, gamma, cost):\n",
    "    \"\"\"double Q-learning для одного эпизода с учетом удвоения ставок.\"\"\"\n",
    "    \n",
    "    state, shuffle_card = env.reset()\n",
    "\n",
    "    if shuffle_card:\n",
    "        cost = 0\n",
    "        \n",
    "    # смотрим на карты игрока\n",
    "    for card in env.player:\n",
    "        cost += card_cost[card]\n",
    "    # первая карта дилера\n",
    "    cost += card_cost[env.dealer[0]]\n",
    "        \n",
    "    terminated = False\n",
    "    double_game = False\n",
    "\n",
    "    while not terminated:\n",
    "\n",
    "        pi = compute_policy_by_Q(Q1)  # текущая стратегия\n",
    "\n",
    "        sum_hand = state[0]\n",
    "        \n",
    "        if double_game:\n",
    "            action = 0  \n",
    "        else:\n",
    "            if np.random.rand() > eps:\n",
    "                action = pi[s2i[(sum_hand, cost)]]\n",
    "            else:\n",
    "                action = np.random.randint(nA)\n",
    "            if action == 2:\n",
    "                double_game = True\n",
    "\n",
    "        state, reward, terminated, _, _ = env.step(min(action, 1))\n",
    "        \n",
    "        k = (sum_hand, cost)\n",
    "        \n",
    "        # учтем новую карту игрока\n",
    "        if action != 0:\n",
    "            cost += card_cost[env.player[-1]]\n",
    "        \n",
    "        if double_game:\n",
    "            reward *= 2\n",
    "\n",
    "        new_state = state[0]\n",
    "        if new_state > 21:\n",
    "            new_state = 22\n",
    "            \n",
    "        if np.random.random() < 0.5:\n",
    "            Q1[s2i[k]][action] = Q1[s2i[k]][action] \\\n",
    "                    + alpha * (reward + gamma * max(Q2[s2i[(new_state, cost)]]) - Q1[s2i[k]][action])\n",
    "        else:\n",
    "            Q2[s2i[k]][action] = Q2[s2i[k]][action] \\\n",
    "                    + alpha * (reward + gamma * max(Q1[s2i[(new_state, cost)]]) - Q2[s2i[k]][action])\n",
    "        \n",
    "    # учтем оставшиеся карты дилера\n",
    "    for card in env.dealer[1:]:\n",
    "        cost += card_cost[card]\n",
    "\n",
    "    return Q1, Q2, cost"
   ]
  },
  {
   "cell_type": "code",
   "execution_count": 677,
   "id": "53f04503",
   "metadata": {},
   "outputs": [],
   "source": [
    "env = Blackjack_V2(natural=False, sab=False)"
   ]
  },
  {
   "cell_type": "code",
   "execution_count": 678,
   "id": "0c8e664e",
   "metadata": {},
   "outputs": [],
   "source": [
    "# Метод Половинки\n",
    "card_cost = {\n",
    "    1: -1,\n",
    "    2: 0.5,\n",
    "    3: 0.5,\n",
    "    4: 1,\n",
    "    5: 1.5,\n",
    "    6: 1,\n",
    "    7: 0.5,\n",
    "    8: 0,\n",
    "    9: -0.5,\n",
    "    10: -1,\n",
    "}\n",
    "\n",
    "min_cost_value = -22\n",
    "max_cost_value = 20"
   ]
  },
  {
   "cell_type": "code",
   "execution_count": 679,
   "id": "5785f50f",
   "metadata": {},
   "outputs": [
    {
     "data": {
      "text/plain": [
       "1955"
      ]
     },
     "execution_count": 679,
     "metadata": {},
     "output_type": "execute_result"
    }
   ],
   "source": [
    "possible_states = list(itertools.product(np.arange(23), np.arange(min_cost_value, max_cost_value + 0.5, 0.5)))\n",
    "\n",
    "# словарь перевода состояний в порядковый номер\n",
    "s2i = {s: i for i, s in enumerate(possible_states)}\n",
    "\n",
    "nS = len(possible_states)\n",
    "nS"
   ]
  },
  {
   "cell_type": "code",
   "execution_count": null,
   "id": "98ccdc07",
   "metadata": {},
   "outputs": [],
   "source": []
  },
  {
   "cell_type": "code",
   "execution_count": 746,
   "id": "278c107c",
   "metadata": {},
   "outputs": [
    {
     "name": "stderr",
     "output_type": "stream",
     "text": [
      "100%|█████████████████████████████████| 200001/200001 [00:39<00:00, 5059.07it/s]\n"
     ]
    }
   ],
   "source": [
    "Q1 = np.zeros((nS, nA))\n",
    "Q2 = np.zeros((nS, nA))\n",
    "\n",
    "total_episodes = 200_001\n",
    "alpha = 0.001\n",
    "eps = 0.9\n",
    "gamma = 1\n",
    "check_pi_step = 2_000  # как часто проверяем стратегию\n",
    "\n",
    "cost = 0  # учет карт (благоприятность ситуации для игрока)\n",
    "\n",
    "policy_list = []  # список полученных стратегий\n",
    "\n",
    "for n_episode in tqdm(range(total_episodes)):\n",
    "    \n",
    "    if n_episode % check_pi_step == 0:\n",
    "        policy_list.append(compute_policy_by_Q(Q1))\n",
    "    \n",
    "    Q1, Q2, cost = double_Q_learning_episode_with_double_Hoffman(env, Q1, Q2, alpha, eps, gamma, cost) "
   ]
  },
  {
   "cell_type": "code",
   "execution_count": 754,
   "id": "6bd29403",
   "metadata": {},
   "outputs": [
    {
     "name": "stderr",
     "output_type": "stream",
     "text": [
      "100%|███████████████████████████████████████████| 90/90 [48:31<00:00, 32.35s/it]\n"
     ]
    }
   ],
   "source": [
    "mean_reward_by_current_policy = []\n",
    "\n",
    "for pi in tqdm(policy_list):\n",
    "    env = Blackjack_V2(natural=True, sab=False)\n",
    "    mean_reward = get_mean_reward(env, pi, n_episodes=200_000)\n",
    "    mean_reward_by_current_policy.append(mean_reward)"
   ]
  },
  {
   "cell_type": "code",
   "execution_count": 755,
   "id": "efeca7b9",
   "metadata": {},
   "outputs": [
    {
     "data": {
      "image/png": "[encoded data removed]",
      "text/plain": [
       "<Figure size 1000x400 with 1 Axes>"
      ]
     },
     "metadata": {},
     "output_type": "display_data"
    }
   ],
   "source": [
    "mean_reward_plot(\n",
    "    x=np.arange(0, total_episodes, check_pi_step),\n",
    "    y=mean_reward_by_current_policy, \n",
    "    title=\"Q-learning with double and Hoffman\"\n",
    ")"
   ]
  },
  {
   "cell_type": "code",
   "execution_count": null,
   "id": "85308a38",
   "metadata": {},
   "outputs": [],
   "source": []
  },
  {
   "cell_type": "markdown",
   "id": "c78bc9c3",
   "metadata": {},
   "source": [
    "# Выводы по третьей части\n",
    "* Средний проигрыш составил порядка $0.06$.\n",
    "* Если сравнить с результатами из *пп.1 и 2*, то средний проигрыш остался таким же. При этом путь к оптимальной стратегии более медленный. Если до этого нам хватало 5.000 - 10.000 тысяч итераций, то сейчас порядка 100.000, чтобы достичь тех же результатов. Но это еще можно объяснить тем, что количество состояний у нас возросло на 2 порядка."
   ]
  },
  {
   "cell_type": "code",
   "execution_count": null,
   "id": "990d9bd3",
   "metadata": {},
   "outputs": [],
   "source": []
  },
  {
   "cell_type": "code",
   "execution_count": null,
   "id": "837804ff",
   "metadata": {},
   "outputs": [],
   "source": []
  },
  {
   "cell_type": "code",
   "execution_count": null,
   "id": "0e2ea8d0",
   "metadata": {},
   "outputs": [],
   "source": []
  },
  {
   "cell_type": "markdown",
   "id": "b586d7a1",
   "metadata": {},
   "source": [
    "# Глобальный вывод\n",
    "\n",
    "* Все методы обучения показывают уменьшение среднего проигрыша по сравнению с первоначальной простой стратегией.\n",
    "* Везде проигрыш составил порядка $0.06$. Обыграть казино не получилось.\n",
    "* В 3 части сходимость алгоритма более медленная. Вероятно, из-за того, что количество состояний здесь на 2 порядка больше.\n",
    "* Также я рассматривал поначалу в качестве состояний сумму карт на руках. Возможно, правильнее было бы рассматривать в качестве состояний комбинацию из сумм карт на руках игрока и дилера.\n",
    "* ДЗ очень интересное. На практике пощупать все эти методы. Много чего не успел сделать, что хотелось попробовать. Но спасибо:)"
   ]
  },
  {
   "cell_type": "code",
   "execution_count": null,
   "id": "cff4f544",
   "metadata": {},
   "outputs": [],
   "source": []
  },
  {
   "cell_type": "code",
   "execution_count": null,
   "id": "a125d8a1",
   "metadata": {},
   "outputs": [],
   "source": []
  }
 ],
 "metadata": {
  "kernelspec": {
   "display_name": "Python 3 (ipykernel)",
   "language": "python",
   "name": "python3"
  },
  "language_info": {
   "codemirror_mode": {
    "name": "ipython",
    "version": 3
   },
   "file_extension": ".py",
   "mimetype": "text/x-python",
   "name": "python",
   "nbconvert_exporter": "python",
   "pygments_lexer": "ipython3",
   "version": "3.9.13"
  }
 },
 "nbformat": 4,
 "nbformat_minor": 5
}
